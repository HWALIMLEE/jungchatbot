{
 "cells": [
  {
   "cell_type": "code",
   "execution_count": 1,
   "metadata": {},
   "outputs": [],
   "source": [
    "!python model.py"
   ]
  },
  {
   "cell_type": "code",
   "execution_count": 13,
   "metadata": {},
   "outputs": [
    {
     "name": "stdout",
     "output_type": "stream",
     "text": [
      "WARNING: Logging before flag parsing goes to stderr.\r\n",
      "W1001 14:45:49.467378 139797281261312 deprecation_wrapper.py:119] From data.py:161: The name tf.logging.set_verbosity is deprecated. Please use tf.compat.v1.logging.set_verbosity instead.\r\n",
      "\r\n",
      "W1001 14:45:49.467666 139797281261312 deprecation_wrapper.py:119] From data.py:161: The name tf.logging.INFO is deprecated. Please use tf.compat.v1.logging.INFO instead.\r\n",
      "\r\n",
      "W1001 14:45:49.467924 139797281261312 deprecation_wrapper.py:119] From data.py:162: The name tf.app.run is deprecated. Please use tf.compat.v1.app.run instead.\r\n",
      "\r\n"
     ]
    }
   ],
   "source": [
    "!python data.py"
   ]
  },
  {
   "cell_type": "code",
   "execution_count": 27,
   "metadata": {},
   "outputs": [
    {
     "name": "stdout",
     "output_type": "stream",
     "text": [
      "W1001 16:13:36.757693 139621387990784 deprecation_wrapper.py:119] From train.py:38: The name tf.logging.set_verbosity is deprecated. Please use tf.compat.v1.logging.set_verbosity instead.\n",
      "\n",
      "W1001 16:13:36.757958 139621387990784 deprecation_wrapper.py:119] From train.py:38: The name tf.logging.INFO is deprecated. Please use tf.compat.v1.logging.INFO instead.\n",
      "\n",
      "W1001 16:13:36.776186 139621387990784 deprecation.py:323] From /home/lab01/anaconda3/lib/python3.7/site-packages/tensorflow/python/training/training_util.py:236: Variable.initialized_value (from tensorflow.python.ops.variables) is deprecated and will be removed in a future version.\n",
      "Instructions for updating:\n",
      "Use Variable.read_value. Variables in 2.X are initialized automatically both in eager and graph (inside tf.defun) contexts.\n",
      "W1001 16:13:36.809063 139621387990784 deprecation.py:323] From /home/lab01/6.4.Transformer/data.py:99: DatasetV1.make_one_shot_iterator (from tensorflow.python.data.ops.dataset_ops) is deprecated and will be removed in a future version.\n",
      "Instructions for updating:\n",
      "Use `for ... in dataset:` to iterate over a dataset. If using `tf.estimator`, return the `Dataset` object directly from your input function. As a last resort, you can use `tf.compat.v1.data.make_one_shot_iterator(dataset)`.\n",
      "I1001 16:13:36.828025 139621387990784 estimator.py:1145] Calling model_fn.\n",
      "W1001 16:13:36.831629 139621387990784 deprecation.py:506] From /home/lab01/anaconda3/lib/python3.7/site-packages/tensorflow/python/keras/initializers.py:119: calling RandomUniform.__init__ (from tensorflow.python.ops.init_ops) with dtype is deprecated and will be removed in a future version.\n",
      "Instructions for updating:\n",
      "Call initializer instance with the dtype argument instead of passing it to the constructor\n",
      "W1001 16:13:36.834603 139621387990784 deprecation.py:506] From /home/lab01/anaconda3/lib/python3.7/site-packages/tensorflow/python/ops/init_ops.py:1251: calling VarianceScaling.__init__ (from tensorflow.python.ops.init_ops) with dtype is deprecated and will be removed in a future version.\n",
      "Instructions for updating:\n",
      "Call initializer instance with the dtype argument instead of passing it to the constructor\n",
      "W1001 16:13:36.856550 139621387990784 deprecation_wrapper.py:119] From /home/lab01/6.4.Transformer/model.py:173: The name tf.variable_scope is deprecated. Please use tf.compat.v1.variable_scope instead.\n",
      "\n",
      "W1001 16:13:36.856683 139621387990784 deprecation_wrapper.py:119] From /home/lab01/6.4.Transformer/model.py:173: The name tf.AUTO_REUSE is deprecated. Please use tf.compat.v1.AUTO_REUSE instead.\n",
      "\n",
      "W1001 16:13:37.418550 139621387990784 deprecation_wrapper.py:119] From /home/lab01/anaconda3/lib/python3.7/site-packages/tensorflow/python/autograph/converters/directives.py:117: The name tf.get_variable is deprecated. Please use tf.compat.v1.get_variable instead.\n",
      "\n",
      "W1001 16:13:38.172791 139621387990784 deprecation.py:323] From /home/lab01/6.4.Transformer/model.py:70: add_dispatch_support.<locals>.wrapper (from tensorflow.python.ops.array_ops) is deprecated and will be removed in a future version.\n",
      "Instructions for updating:\n",
      "Use tf.where in 2.0, which has the same broadcast rule as np.where\n",
      "W1001 16:13:38.981685 139621387990784 deprecation_wrapper.py:119] From /home/lab01/6.4.Transformer/model.py:200: The name tf.metrics.accuracy is deprecated. Please use tf.compat.v1.metrics.accuracy instead.\n",
      "\n",
      "W1001 16:13:38.997260 139621387990784 deprecation_wrapper.py:119] From /home/lab01/6.4.Transformer/model.py:203: The name tf.summary.scalar is deprecated. Please use tf.compat.v1.summary.scalar instead.\n",
      "\n",
      "W1001 16:13:38.998568 139621387990784 deprecation_wrapper.py:119] From /home/lab01/6.4.Transformer/model.py:210: The name tf.train.AdamOptimizer is deprecated. Please use tf.compat.v1.train.AdamOptimizer instead.\n",
      "\n",
      "W1001 16:13:38.998720 139621387990784 deprecation_wrapper.py:119] From /home/lab01/6.4.Transformer/model.py:211: The name tf.train.get_global_step is deprecated. Please use tf.compat.v1.train.get_global_step instead.\n",
      "\n",
      "I1001 16:13:42.457648 139621387990784 estimator.py:1147] Done calling model_fn.\n",
      "I1001 16:13:42.459101 139621387990784 basic_session_run_hooks.py:541] Create CheckpointSaverHook.\n",
      "I1001 16:13:43.658833 139621387990784 monitored_session.py:240] Graph was finalized.\n",
      "2019-10-01 16:13:43.659179: I tensorflow/core/platform/cpu_feature_guard.cc:142] Your CPU supports instructions that this TensorFlow binary was not compiled to use: AVX2 FMA\n",
      "2019-10-01 16:13:43.665522: I tensorflow/core/platform/profile_utils/cpu_utils.cc:94] CPU Frequency: 2300045000 Hz\n",
      "2019-10-01 16:13:43.665742: I tensorflow/compiler/xla/service/service.cc:168] XLA service 0x556b77c73050 executing computations on platform Host. Devices:\n",
      "2019-10-01 16:13:43.665772: I tensorflow/compiler/xla/service/service.cc:175]   StreamExecutor device (0): <undefined>, <undefined>\n",
      "2019-10-01 16:13:43.666984: I tensorflow/stream_executor/platform/default/dso_loader.cc:42] Successfully opened dynamic library libcuda.so.1\n",
      "2019-10-01 16:13:43.739289: I tensorflow/stream_executor/cuda/cuda_gpu_executor.cc:1005] successful NUMA node read from SysFS had negative value (-1), but there must be at least one NUMA node, so returning NUMA node zero\n",
      "2019-10-01 16:13:43.740025: I tensorflow/core/common_runtime/gpu/gpu_device.cc:1640] Found device 0 with properties: \n",
      "name: Tesla K80 major: 3 minor: 7 memoryClockRate(GHz): 0.8235\n",
      "pciBusID: 0000:00:1e.0\n",
      "2019-10-01 16:13:43.740261: I tensorflow/stream_executor/platform/default/dso_loader.cc:42] Successfully opened dynamic library libcudart.so.10.0\n",
      "2019-10-01 16:13:43.741562: I tensorflow/stream_executor/platform/default/dso_loader.cc:42] Successfully opened dynamic library libcublas.so.10.0\n",
      "2019-10-01 16:13:43.742736: I tensorflow/stream_executor/platform/default/dso_loader.cc:42] Successfully opened dynamic library libcufft.so.10.0\n",
      "2019-10-01 16:13:43.743023: I tensorflow/stream_executor/platform/default/dso_loader.cc:42] Successfully opened dynamic library libcurand.so.10.0\n",
      "2019-10-01 16:13:43.744456: I tensorflow/stream_executor/platform/default/dso_loader.cc:42] Successfully opened dynamic library libcusolver.so.10.0\n",
      "2019-10-01 16:13:43.745583: I tensorflow/stream_executor/platform/default/dso_loader.cc:42] Successfully opened dynamic library libcusparse.so.10.0\n",
      "2019-10-01 16:13:43.745694: I tensorflow/stream_executor/platform/default/dso_loader.cc:53] Could not dlopen library 'libcudnn.so.7'; dlerror: libcudnn.so.7: cannot open shared object file: No such file or directory\n",
      "2019-10-01 16:13:43.745718: W tensorflow/core/common_runtime/gpu/gpu_device.cc:1663] Cannot dlopen some GPU libraries. Skipping registering GPU devices...\n",
      "2019-10-01 16:13:43.804285: I tensorflow/core/common_runtime/gpu/gpu_device.cc:1181] Device interconnect StreamExecutor with strength 1 edge matrix:\n",
      "2019-10-01 16:13:43.804325: I tensorflow/core/common_runtime/gpu/gpu_device.cc:1187]      0 \n",
      "2019-10-01 16:13:43.804345: I tensorflow/core/common_runtime/gpu/gpu_device.cc:1200] 0:   N \n",
      "2019-10-01 16:13:43.806203: I tensorflow/stream_executor/cuda/cuda_gpu_executor.cc:1005] successful NUMA node read from SysFS had negative value (-1), but there must be at least one NUMA node, so returning NUMA node zero\n",
      "2019-10-01 16:13:43.806962: I tensorflow/compiler/xla/service/service.cc:168] XLA service 0x556b76a8cb50 executing computations on platform CUDA. Devices:\n",
      "2019-10-01 16:13:43.806989: I tensorflow/compiler/xla/service/service.cc:175]   StreamExecutor device (0): Tesla K80, Compute Capability 3.7\n",
      "W1001 16:13:43.808600 139621387990784 deprecation.py:323] From /home/lab01/anaconda3/lib/python3.7/site-packages/tensorflow/python/training/saver.py:1276: checkpoint_exists (from tensorflow.python.training.checkpoint_management) is deprecated and will be removed in a future version.\n",
      "Instructions for updating:\n",
      "Use standard file APIs to check for files with this prefix.\n",
      "I1001 16:13:43.809653 139621387990784 saver.py:1280] Restoring parameters from ./data_out/check_point/model.ckpt-0\n",
      "2019-10-01 16:13:44.159295: W tensorflow/compiler/jit/mark_for_compilation_pass.cc:1412] (One-time warning): Not using XLA:CPU for cluster because envvar TF_XLA_FLAGS=--tf_xla_cpu_global_jit was not set.  If you want XLA:CPU, either set that envvar, or use experimental_jit_scope to enable XLA:CPU.  To confirm that XLA is active, pass --vmodule=xla_compilation_cache=1 (as a proper command-line flag, not via TF_XLA_FLAGS) or set the envvar XLA_FLAGS=--xla_hlo_profile.\n",
      "W1001 16:13:44.192434 139621387990784 deprecation.py:323] From /home/lab01/anaconda3/lib/python3.7/site-packages/tensorflow/python/training/saver.py:1066: get_checkpoint_mtimes (from tensorflow.python.training.checkpoint_management) is deprecated and will be removed in a future version.\n",
      "Instructions for updating:\n",
      "Use standard file utilities to get mtimes.\n"
     ]
    },
    {
     "name": "stdout",
     "output_type": "stream",
     "text": [
      "I1001 16:13:44.399769 139621387990784 session_manager.py:500] Running local_init_op.\n",
      "I1001 16:13:44.466235 139621387990784 session_manager.py:502] Done running local_init_op.\n",
      "I1001 16:13:47.563212 139621387990784 basic_session_run_hooks.py:606] Saving checkpoints for 0 into ./data_out/check_point/model.ckpt.\n",
      "I1001 16:13:53.304703 139621387990784 basic_session_run_hooks.py:262] loss = 5.909642, step = 1\n",
      "I1001 16:18:38.307658 139621387990784 basic_session_run_hooks.py:692] global_step/sec: 0.350873\n",
      "I1001 16:18:38.308486 139621387990784 basic_session_run_hooks.py:260] loss = 0.34738067, step = 101 (285.004 sec)\n",
      "I1001 16:23:21.143394 139621387990784 basic_session_run_hooks.py:692] global_step/sec: 0.353562\n",
      "I1001 16:23:21.144185 139621387990784 basic_session_run_hooks.py:260] loss = 0.15962608, step = 201 (282.836 sec)\n",
      "I1001 16:23:49.213291 139621387990784 basic_session_run_hooks.py:606] Saving checkpoints for 211 into ./data_out/check_point/model.ckpt.\n",
      "I1001 16:28:16.119663 139621387990784 basic_session_run_hooks.py:692] global_step/sec: 0.33901\n",
      "I1001 16:28:16.120439 139621387990784 basic_session_run_hooks.py:260] loss = 0.032329325, step = 301 (294.976 sec)\n",
      "I1001 16:32:59.169155 139621387990784 basic_session_run_hooks.py:692] global_step/sec: 0.353295\n",
      "I1001 16:32:59.170157 139621387990784 basic_session_run_hooks.py:260] loss = 0.022829268, step = 401 (283.050 sec)\n",
      "I1001 16:33:51.584042 139621387990784 basic_session_run_hooks.py:606] Saving checkpoints for 419 into ./data_out/check_point/model.ckpt.\n",
      "I1001 16:37:42.706214 139621387990784 basic_session_run_hooks.py:692] global_step/sec: 0.352687\n",
      "I1001 16:37:42.707019 139621387990784 basic_session_run_hooks.py:260] loss = 0.020665983, step = 501 (283.537 sec)\n",
      "I1001 16:42:29.636140 139621387990784 basic_session_run_hooks.py:692] global_step/sec: 0.348517\n",
      "I1001 16:42:29.636942 139621387990784 basic_session_run_hooks.py:260] loss = 0.01947935, step = 601 (286.930 sec)\n",
      "I1001 16:43:53.674052 139621387990784 basic_session_run_hooks.py:606] Saving checkpoints for 631 into ./data_out/check_point/model.ckpt.\n",
      "I1001 16:47:11.556720 139621387990784 basic_session_run_hooks.py:692] global_step/sec: 0.35471\n",
      "I1001 16:47:11.557520 139621387990784 basic_session_run_hooks.py:260] loss = 0.018908631, step = 701 (281.921 sec)\n",
      "I1001 16:51:52.731078 139621387990784 basic_session_run_hooks.py:692] global_step/sec: 0.355651\n",
      "I1001 16:51:52.731893 139621387990784 basic_session_run_hooks.py:260] loss = 0.018969832, step = 801 (281.174 sec)\n",
      "I1001 16:53:56.331847 139621387990784 basic_session_run_hooks.py:606] Saving checkpoints for 845 into ./data_out/check_point/model.ckpt.\n",
      "I1001 16:56:34.513309 139621387990784 basic_session_run_hooks.py:692] global_step/sec: 0.354884\n",
      "I1001 16:56:34.514203 139621387990784 basic_session_run_hooks.py:260] loss = 0.018553717, step = 901 (281.782 sec)\n",
      "I1001 17:01:17.754806 139621387990784 basic_session_run_hooks.py:692] global_step/sec: 0.353056\n",
      "I1001 17:01:17.755612 139621387990784 basic_session_run_hooks.py:260] loss = 0.012917414, step = 1001 (283.241 sec)\n",
      "I1001 17:03:58.612468 139621387990784 basic_session_run_hooks.py:606] Saving checkpoints for 1058 into ./data_out/check_point/model.ckpt.\n",
      "W1001 17:03:58.634373 139621387990784 deprecation.py:323] From /home/lab01/anaconda3/lib/python3.7/site-packages/tensorflow/python/training/saver.py:960: remove_checkpoint (from tensorflow.python.training.checkpoint_management) is deprecated and will be removed in a future version.\n",
      "Instructions for updating:\n",
      "Use standard file APIs to delete files with this prefix.\n",
      "^C\n"
     ]
    }
   ],
   "source": [
    "!python train.py"
   ]
  },
  {
   "cell_type": "code",
   "execution_count": 5,
   "metadata": {},
   "outputs": [],
   "source": [
    "import pandas as pd"
   ]
  },
  {
   "cell_type": "code",
   "execution_count": 9,
   "metadata": {},
   "outputs": [],
   "source": [
    "data = pd.read_csv('./data_in/ChatBotData.csv',encoding='cp949')"
   ]
  },
  {
   "cell_type": "code",
   "execution_count": 26,
   "metadata": {},
   "outputs": [
    {
     "name": "stdout",
     "output_type": "stream",
     "text": [
      "239\n"
     ]
    }
   ],
   "source": [
    "mx = 0\n",
    "for i in data['A'] : \n",
    "    if mx < len(i) : mx = len(i)\n",
    "print(mx)"
   ]
  },
  {
   "cell_type": "code",
   "execution_count": null,
   "metadata": {},
   "outputs": [],
   "source": []
  }
 ],
 "metadata": {
  "kernelspec": {
   "display_name": "Python 3",
   "language": "python",
   "name": "python3"
  },
  "language_info": {
   "codemirror_mode": {
    "name": "ipython",
    "version": 3
   },
   "file_extension": ".py",
   "mimetype": "text/x-python",
   "name": "python",
   "nbconvert_exporter": "python",
   "pygments_lexer": "ipython3",
   "version": "3.7.3"
  }
 },
 "nbformat": 4,
 "nbformat_minor": 2
}
